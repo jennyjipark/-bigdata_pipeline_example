{
 "cells": [
  {
   "cell_type": "code",
   "execution_count": 7,
   "id": "57e23253-3da9-444d-9009-8d6208170c0f",
   "metadata": {},
   "outputs": [],
   "source": [
    "wordsList = [\"cat\", \"ele\", \"rat\", \"rat\", \"cat\"]"
   ]
  },
  {
   "cell_type": "code",
   "execution_count": 8,
   "id": "72378e9a-b891-4028-8e1d-8625bee12e77",
   "metadata": {},
   "outputs": [],
   "source": [
    "from pyspark import SparkContext\n",
    "sc = SparkContext.getOrCreate();\n",
    "\n",
    "wordsRDD = sc.parallelize(wordsList)"
   ]
  },
  {
   "cell_type": "code",
   "execution_count": 18,
   "id": "aca56873-0535-456f-ae7a-540eaadcb49c",
   "metadata": {},
   "outputs": [
    {
     "data": {
      "text/plain": [
       "[('ele', 1), ('cat', 2), ('rat', 2)]"
      ]
     },
     "execution_count": 18,
     "metadata": {},
     "output_type": "execute_result"
    }
   ],
   "source": [
    "wordsRDD.map(lambda elem: (elem, 1)) \\\n",
    "        .reduceByKey(lambda x, y: x + y).collect()"
   ]
  },
  {
   "cell_type": "code",
   "execution_count": 53,
   "id": "d20192cf-0134-4f6a-b569-a150063404d7",
   "metadata": {},
   "outputs": [
    {
     "data": {
      "text/plain": [
       "['Alex loves writing', 'Alex loves gym', 'Bert loves swimming']"
      ]
     },
     "execution_count": 53,
     "metadata": {},
     "output_type": "execute_result"
    }
   ],
   "source": [
    "# INPUT\n",
    "person = [(0, \"Alex\"), (1, \"Bert\"), (2, \"Curt\"), (3, \"Don\")]\n",
    "act = [(0, \"writing\"), (0, \"gym\"), (1, \"swimming\")]\n",
    "\n",
    "# OUTPUT\n",
    "personRDD = sc.parallelize(person)\n",
    "actRDD = sc.parallelize(act)\n",
    "\n",
    "resultRDD = personRDD.rightOuterJoin(actRDD)\n",
    "resultRDD.map(lambda x: x[1][0] + \" loves \" + x[1][1]).collect()\n",
    "    "
   ]
  },
  {
   "cell_type": "code",
   "execution_count": null,
   "id": "1cb9ec31-4f80-40a3-a4a1-e0e554e86fa6",
   "metadata": {},
   "outputs": [],
   "source": []
  }
 ],
 "metadata": {
  "kernelspec": {
   "display_name": "Python 3 (ipykernel)",
   "language": "python",
   "name": "python3"
  },
  "language_info": {
   "codemirror_mode": {
    "name": "ipython",
    "version": 3
   },
   "file_extension": ".py",
   "mimetype": "text/x-python",
   "name": "python",
   "nbconvert_exporter": "python",
   "pygments_lexer": "ipython3",
   "version": "3.8.18"
  }
 },
 "nbformat": 4,
 "nbformat_minor": 5
}
