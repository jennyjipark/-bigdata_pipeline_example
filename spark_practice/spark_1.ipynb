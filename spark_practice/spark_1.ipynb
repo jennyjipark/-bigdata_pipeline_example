{
 "cells": [
  {
   "cell_type": "code",
   "execution_count": 10,
   "id": "bb81e74f-0f2f-495c-89d3-9a308c8c14f5",
   "metadata": {},
   "outputs": [
    {
     "name": "stdout",
     "output_type": "stream",
     "text": [
      "3.8.18 (default, Sep 11 2023, 08:25:43) \n",
      "[Clang 14.0.6 ]\n"
     ]
    }
   ],
   "source": [
    "import sys\n",
    "print(sys.version)"
   ]
  },
  {
   "cell_type": "code",
   "execution_count": 17,
   "id": "0619f49c-d67e-4a04-b35c-4bdbd2c2863c",
   "metadata": {},
   "outputs": [],
   "source": [
    "import os\n",
    "os.environ[\"SPARK_HOME\"] = \"/Users/jihyun/apache-spark/spark-3.0.1-bin-hadoop2.7\""
   ]
  },
  {
   "cell_type": "code",
   "execution_count": 19,
   "id": "000beb63-dae7-4a17-84a8-76da059ead5b",
   "metadata": {},
   "outputs": [],
   "source": [
    "from pyspark import SparkContext\n",
    "sc = SparkContext.getOrCreate();"
   ]
  },
  {
   "cell_type": "code",
   "execution_count": 18,
   "id": "707b98df-56c1-486c-ab6a-8c457e1a9452",
   "metadata": {},
   "outputs": [],
   "source": [
    "import findspark\n",
    "findspark.init()"
   ]
  },
  {
   "cell_type": "code",
   "execution_count": 22,
   "id": "a96cacff-0604-4263-90a1-1b1140a5df56",
   "metadata": {},
   "outputs": [
    {
     "data": {
      "text/plain": [
       "[1, 2, 3, 4]"
      ]
     },
     "execution_count": 22,
     "metadata": {},
     "output_type": "execute_result"
    }
   ],
   "source": [
    "li = [1, 2, 3, 4]\n",
    "# rdd 올리기\n",
    "rdd = sc.parallelize(li)\n",
    "rdd.collect()"
   ]
  },
  {
   "cell_type": "code",
   "execution_count": 24,
   "id": "d4b4cd4d-d76f-424d-9eb9-a50105c1017e",
   "metadata": {},
   "outputs": [],
   "source": [
    "rdd1 = sc.parallelize(range(0, 100))\n",
    "rdd1.saveAsTextFile(\"range_output\")"
   ]
  },
  {
   "cell_type": "code",
   "execution_count": 35,
   "id": "83fefd2c-a2fc-4436-9702-747b2d5f6b21",
   "metadata": {},
   "outputs": [
    {
     "name": "stdout",
     "output_type": "stream",
     "text": [
      "[['cat', 'cat'], ['ele'], ['cat', 'ele']]\n",
      "['cat', 'cat', 'ele', 'cat', 'ele']\n"
     ]
    }
   ],
   "source": [
    "wordsList = [['cat', 'cat'], ['ele'], ['cat', 'ele']]\n",
    "rdd2 = sc.parallelize(wordsList)\n",
    "# map\n",
    "output = rdd2.map(lambda line: [x for x in line]).collect()\n",
    "print(output)"
   ]
  },
  {
   "cell_type": "code",
   "execution_count": 36,
   "id": "ce56e975-3bc4-42c9-ba4b-2d35383963e2",
   "metadata": {},
   "outputs": [
    {
     "name": "stdout",
     "output_type": "stream",
     "text": [
      "['cat', 'cat', 'ele', 'cat', 'ele']\n"
     ]
    }
   ],
   "source": [
    "# flatMap\n",
    "output2 = rdd2.flatMap(lambda line: [x for x in line]).collect()\n",
    "print(output2)"
   ]
  },
  {
   "cell_type": "code",
   "execution_count": 50,
   "id": "0545b1ad-c43d-4fb0-800f-8e789e331f8d",
   "metadata": {},
   "outputs": [
    {
     "data": {
      "text/plain": [
       "['ele', 'ele']"
      ]
     },
     "execution_count": 50,
     "metadata": {},
     "output_type": "execute_result"
    }
   ],
   "source": [
    "# filter\n",
    "def remove_cat(animal):\n",
    "    return(animal != \"cat\") # cat이 아니면 리턴\n",
    "\n",
    "wordsList = [['cat', 'cat'], ['ele'], ['cat', 'ele']]\n",
    "rdd3 = sc.parallelize(wordsList)\n",
    "# \\ -> 다음 줄에도 코드 작성 이어서 할거야\n",
    "rdd3.flatMap(lambda line: [x for x in line]) \\\n",
    "    .filter(remove_cat).collect()"
   ]
  },
  {
   "cell_type": "code",
   "execution_count": 73,
   "id": "79e5c970-0baa-4acd-9238-d12b236aa670",
   "metadata": {},
   "outputs": [
    {
     "data": {
      "text/plain": [
       "[('ele', 2)]"
      ]
     },
     "execution_count": 73,
     "metadata": {},
     "output_type": "execute_result"
    }
   ],
   "source": [
    "# mapValues\n",
    "def remove_cat(animal):\n",
    "    return(animal != \"cat\") # cat이 아니면 리턴\n",
    "\n",
    "wordsList = [['cat', 'cat'], ['ele'], ['cat', 'ele']]\n",
    "rdd3 = sc.parallelize(wordsList)\n",
    "# \\ -> 다음 줄에도 코드 작성 이어서 할거야\n",
    "rdd3.flatMap(lambda line: [x for x in line]) \\\n",
    "    .filter(remove_cat) \\\n",
    "    .map(lambda ele: (ele, 1)) \\\n",
    "    .groupByKey() \\\n",
    "    .mapValues(lambda value: sum(value)) \\\n",
    "    .collect()"
   ]
  },
  {
   "cell_type": "code",
   "execution_count": 72,
   "id": "1ff6230d-0da1-4cc7-8b07-8044cdf63599",
   "metadata": {},
   "outputs": [
    {
     "data": {
      "text/plain": [
       "[('ele', 2)]"
      ]
     },
     "execution_count": 72,
     "metadata": {},
     "output_type": "execute_result"
    }
   ],
   "source": [
    "# reduceByKey\n",
    "def remove_cat(animal):\n",
    "    return(animal != \"cat\") # cat이 아니면 리턴\n",
    "\n",
    "wordsList = [['cat', 'cat'], ['ele'], ['cat', 'ele']]\n",
    "rdd4 = sc.parallelize(wordsList)\n",
    "# \\ -> 다음 줄에도 코드 작성 이어서 할거야\n",
    "rdd4.flatMap(lambda line: [x for x in line]) \\\n",
    "    .filter(remove_cat) \\\n",
    "    .map(lambda ele: (ele, 1)) \\\n",
    "    .reduceByKey(lambda x,y: x + y) \\\n",
    "    .collect()"
   ]
  },
  {
   "cell_type": "code",
   "execution_count": 76,
   "id": "e7c0e334-9b61-4754-b4b9-b4787a2aeaf0",
   "metadata": {},
   "outputs": [
    {
     "data": {
      "text/plain": [
       "defaultdict(int, {'cat': 3, 'ele': 2})"
      ]
     },
     "execution_count": 76,
     "metadata": {},
     "output_type": "execute_result"
    }
   ],
   "source": [
    "# countByValue()\n",
    "def remove_cat(animal):\n",
    "    return(animal != \"cat\") # cat이 아니면 리턴\n",
    "\n",
    "wordsList = [['cat', 'cat'], ['ele'], ['cat', 'ele']]\n",
    "rdd5 = sc.parallelize(wordsList)\n",
    "\n",
    "rdd5.flatMap(lambda li: [l for l in li]) \\\n",
    "    .countByValue()\n"
   ]
  },
  {
   "cell_type": "code",
   "execution_count": 78,
   "id": "c676f1e0-9873-43b7-8a2d-6dd634433a98",
   "metadata": {},
   "outputs": [
    {
     "data": {
      "text/plain": [
       "['cat']"
      ]
     },
     "execution_count": 78,
     "metadata": {},
     "output_type": "execute_result"
    }
   ],
   "source": [
    "# take()\n",
    "def remove_cat(animal):\n",
    "    return(animal != \"cat\") # cat이 아니면 리턴\n",
    "\n",
    "wordsList = [['cat', 'cat'], ['ele'], ['cat', 'ele']]\n",
    "rdd5 = sc.parallelize(wordsList)\n",
    "\n",
    "rdd5.flatMap(lambda li: [l for l in li]) \\\n",
    "    .take(1)"
   ]
  },
  {
   "cell_type": "code",
   "execution_count": null,
   "id": "97aa256a-59aa-40cb-b4f4-ebc4bda1a13c",
   "metadata": {},
   "outputs": [],
   "source": []
  }
 ],
 "metadata": {
  "kernelspec": {
   "display_name": "Python 3 (ipykernel)",
   "language": "python",
   "name": "python3"
  },
  "language_info": {
   "codemirror_mode": {
    "name": "ipython",
    "version": 3
   },
   "file_extension": ".py",
   "mimetype": "text/x-python",
   "name": "python",
   "nbconvert_exporter": "python",
   "pygments_lexer": "ipython3",
   "version": "3.8.18"
  }
 },
 "nbformat": 4,
 "nbformat_minor": 5
}
