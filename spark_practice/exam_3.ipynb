{
 "cells": [
  {
   "cell_type": "code",
   "execution_count": 3,
   "id": "ef089448-5ef5-4ee1-8264-3d03a75d3b4b",
   "metadata": {},
   "outputs": [
    {
     "name": "stderr",
     "output_type": "stream",
     "text": [
      "24/05/01 22:21:56 WARN Utils: Your hostname, bagjihyeon-ui-MacBookPro.local resolves to a loopback address: 127.0.0.1; using 192.168.219.112 instead (on interface en0)\n",
      "24/05/01 22:21:56 WARN Utils: Set SPARK_LOCAL_IP if you need to bind to another address\n",
      "Setting default log level to \"WARN\".\n",
      "To adjust logging level use sc.setLogLevel(newLevel). For SparkR, use setLogLevel(newLevel).\n",
      "24/05/01 22:21:57 WARN NativeCodeLoader: Unable to load native-hadoop library for your platform... using builtin-java classes where applicable\n",
      "24/05/01 22:21:57 WARN Utils: Service 'SparkUI' could not bind on port 4040. Attempting port 4041.\n",
      "24/05/01 22:21:57 WARN Utils: Service 'SparkUI' could not bind on port 4041. Attempting port 4042.\n",
      "----------------------------------------\n",
      "Exception happened during processing of request from ('127.0.0.1', 50379)\n"
     ]
    }
   ],
   "source": [
    "from pyspark import SparkContext\n",
    "\n",
    "sc = SparkContext.getOrCreate();"
   ]
  },
  {
   "cell_type": "code",
   "execution_count": 20,
   "id": "a88efa99-4f2b-4636-a0cf-bf1ce44f0eb5",
   "metadata": {},
   "outputs": [
    {
     "data": {
      "text/plain": [
       "['{\"name\": \"Sparky The Bear\", \"lovePandas\": true}',\n",
       " '{\"name\": \"Sparky The Bear\", \"lovePandas\": true, \"knows\": {\"friends\": [\"holden\"]}}']"
      ]
     },
     "execution_count": 20,
     "metadata": {},
     "output_type": "execute_result"
    }
   ],
   "source": [
    "import json\n",
    "\n",
    "def lovePandas(line):\n",
    "    key = \"lovePandas\"\n",
    "    if key in line and line[key]:\n",
    "        return True\n",
    "    return False\n",
    "    \n",
    "basic_dir = \"\"\n",
    "input = sc.textFile(basic_dir + \"files/pandas.json\")\n",
    "json_data = input.map(lambda x: json.loads(x))\n",
    "json_data.collect()\n",
    "pandas_data = json_data.filter(lovePandas).map(lambda x: json.dumps(x))\n",
    "pandas_data.saveAsTextFile(basic_dir + \"output_pandas\")\n",
    "\n",
    "pandas_data.collect()"
   ]
  },
  {
   "cell_type": "code",
   "execution_count": null,
   "id": "312eb00a-12fe-423a-97b1-4a36b308f1d8",
   "metadata": {},
   "outputs": [],
   "source": []
  }
 ],
 "metadata": {
  "kernelspec": {
   "display_name": "Python 3 (ipykernel)",
   "language": "python",
   "name": "python3"
  },
  "language_info": {
   "codemirror_mode": {
    "name": "ipython",
    "version": 3
   },
   "file_extension": ".py",
   "mimetype": "text/x-python",
   "name": "python",
   "nbconvert_exporter": "python",
   "pygments_lexer": "ipython3",
   "version": "3.8.18"
  }
 },
 "nbformat": 4,
 "nbformat_minor": 5
}
