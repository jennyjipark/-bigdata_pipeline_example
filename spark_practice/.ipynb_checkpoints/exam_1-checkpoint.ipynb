{
 "cells": [
  {
   "cell_type": "code",
   "execution_count": 7,
   "id": "57e23253-3da9-444d-9009-8d6208170c0f",
   "metadata": {},
   "outputs": [],
   "source": [
    "wordsList = [\"cat\", \"ele\", \"rat\", \"rat\", \"cat\"]"
   ]
  },
  {
   "cell_type": "code",
   "execution_count": 8,
   "id": "72378e9a-b891-4028-8e1d-8625bee12e77",
   "metadata": {},
   "outputs": [],
   "source": [
    "from pyspark import SparkContext\n",
    "sc = SparkContext.getOrCreate();\n",
    "\n",
    "wordsRDD = sc.parallelize(wordsList)"
   ]
  },
  {
   "cell_type": "code",
   "execution_count": 18,
   "id": "aca56873-0535-456f-ae7a-540eaadcb49c",
   "metadata": {},
   "outputs": [
    {
     "data": {
      "text/plain": [
       "[('ele', 1), ('cat', 2), ('rat', 2)]"
      ]
     },
     "execution_count": 18,
     "metadata": {},
     "output_type": "execute_result"
    }
   ],
   "source": [
    "wordsRDD.map(lambda elem: (elem, 1)) \\\n",
    "        .reduceByKey(lambda x, y: x + y).collect()"
   ]
  },
  {
   "cell_type": "code",
   "execution_count": 44,
   "id": "d20192cf-0134-4f6a-b569-a150063404d7",
   "metadata": {},
   "outputs": [
    {
     "name": "stdout",
     "output_type": "stream",
     "text": [
      "['Alex loves writing', 'Alex loves gym', 'Bert loves swimming']\n"
     ]
    }
   ],
   "source": [
    "# INPUT\n",
    "person = [(0, \"Alex\"), (1, \"Bert\"), (2, \"Curt\"), (3, \"Don\")]\n",
    "act = [(0, \"writing\"), (0, \"gym\"), (1, \"swimming\")]\n",
    "\n",
    "# OUTPUT\n",
    "# result = []\n",
    "# for person in input1:\n",
    "#     key1 = person[0]\n",
    "\n",
    "#     for act in input2:\n",
    "#         key2 = act[0]\n",
    "\n",
    "#         if key1 == key2:\n",
    "#             name = person[1]\n",
    "#             acting = act[1]\n",
    "\n",
    "#             str = name + \" loves \" + acting\n",
    "#             result.append(str)\n",
    "\n",
    "# print(result)\n",
    "\n",
    "    "
   ]
  },
  {
   "cell_type": "code",
   "execution_count": null,
   "id": "1cb9ec31-4f80-40a3-a4a1-e0e554e86fa6",
   "metadata": {},
   "outputs": [],
   "source": []
  }
 ],
 "metadata": {
  "kernelspec": {
   "display_name": "Python 3 (ipykernel)",
   "language": "python",
   "name": "python3"
  },
  "language_info": {
   "codemirror_mode": {
    "name": "ipython",
    "version": 3
   },
   "file_extension": ".py",
   "mimetype": "text/x-python",
   "name": "python",
   "nbconvert_exporter": "python",
   "pygments_lexer": "ipython3",
   "version": "3.8.18"
  }
 },
 "nbformat": 4,
 "nbformat_minor": 5
}
